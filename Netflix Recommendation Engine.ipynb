{
 "cells": [
  {
   "cell_type": "code",
   "execution_count": 42,
   "metadata": {},
   "outputs": [],
   "source": [
    "import numpy as np\n",
    "import pandas as pd \n",
    "import seaborn as sns\n",
    "import matplotlib.pyplot as plt\n",
    "import plotly.graph_objects as graphObjects\n",
    "from plotly.offline import init_notebook_mode, iplot\n",
    "from sklearn.metrics.pairwise import cosine_similarity\n",
    "from sklearn.feature_extraction.text import CountVectorizer\n",
    "from rake_nltk import Rake"
   ]
  },
  {
   "cell_type": "code",
   "execution_count": 43,
   "metadata": {},
   "outputs": [
    {
     "data": {
      "text/html": [
       "<div>\n",
       "<style scoped>\n",
       "    .dataframe tbody tr th:only-of-type {\n",
       "        vertical-align: middle;\n",
       "    }\n",
       "\n",
       "    .dataframe tbody tr th {\n",
       "        vertical-align: top;\n",
       "    }\n",
       "\n",
       "    .dataframe thead th {\n",
       "        text-align: right;\n",
       "    }\n",
       "</style>\n",
       "<table border=\"1\" class=\"dataframe\">\n",
       "  <thead>\n",
       "    <tr style=\"text-align: right;\">\n",
       "      <th></th>\n",
       "      <th>title</th>\n",
       "      <th>director</th>\n",
       "      <th>cast</th>\n",
       "      <th>listed_in</th>\n",
       "      <th>description</th>\n",
       "    </tr>\n",
       "  </thead>\n",
       "  <tbody>\n",
       "    <tr>\n",
       "      <th>0</th>\n",
       "      <td>Norm of the North: King Sized Adventure</td>\n",
       "      <td>Richard Finn, Tim Maltby</td>\n",
       "      <td>Alan Marriott, Andrew Toth, Brian Dobson, Cole...</td>\n",
       "      <td>Children &amp; Family Movies, Comedies</td>\n",
       "      <td>Before planning an awesome wedding for his gra...</td>\n",
       "    </tr>\n",
       "    <tr>\n",
       "      <th>1</th>\n",
       "      <td>Jandino: Whatever it Takes</td>\n",
       "      <td>NaN</td>\n",
       "      <td>Jandino Asporaat</td>\n",
       "      <td>Stand-Up Comedy</td>\n",
       "      <td>Jandino Asporaat riffs on the challenges of ra...</td>\n",
       "    </tr>\n",
       "    <tr>\n",
       "      <th>2</th>\n",
       "      <td>Transformers Prime</td>\n",
       "      <td>NaN</td>\n",
       "      <td>Peter Cullen, Sumalee Montano, Frank Welker, J...</td>\n",
       "      <td>Kids' TV</td>\n",
       "      <td>With the help of three human allies, the Autob...</td>\n",
       "    </tr>\n",
       "    <tr>\n",
       "      <th>3</th>\n",
       "      <td>Transformers: Robots in Disguise</td>\n",
       "      <td>NaN</td>\n",
       "      <td>Will Friedle, Darren Criss, Constance Zimmer, ...</td>\n",
       "      <td>Kids' TV</td>\n",
       "      <td>When a prison ship crash unleashes hundreds of...</td>\n",
       "    </tr>\n",
       "    <tr>\n",
       "      <th>4</th>\n",
       "      <td>#realityhigh</td>\n",
       "      <td>Fernando Lebrija</td>\n",
       "      <td>Nesta Cooper, Kate Walsh, John Michael Higgins...</td>\n",
       "      <td>Comedies</td>\n",
       "      <td>When nerdy high schooler Dani finally attracts...</td>\n",
       "    </tr>\n",
       "  </tbody>\n",
       "</table>\n",
       "</div>"
      ],
      "text/plain": [
       "                                     title                  director  \\\n",
       "0  Norm of the North: King Sized Adventure  Richard Finn, Tim Maltby   \n",
       "1               Jandino: Whatever it Takes                       NaN   \n",
       "2                       Transformers Prime                       NaN   \n",
       "3         Transformers: Robots in Disguise                       NaN   \n",
       "4                             #realityhigh          Fernando Lebrija   \n",
       "\n",
       "                                                cast  \\\n",
       "0  Alan Marriott, Andrew Toth, Brian Dobson, Cole...   \n",
       "1                                   Jandino Asporaat   \n",
       "2  Peter Cullen, Sumalee Montano, Frank Welker, J...   \n",
       "3  Will Friedle, Darren Criss, Constance Zimmer, ...   \n",
       "4  Nesta Cooper, Kate Walsh, John Michael Higgins...   \n",
       "\n",
       "                            listed_in  \\\n",
       "0  Children & Family Movies, Comedies   \n",
       "1                     Stand-Up Comedy   \n",
       "2                            Kids' TV   \n",
       "3                            Kids' TV   \n",
       "4                            Comedies   \n",
       "\n",
       "                                         description  \n",
       "0  Before planning an awesome wedding for his gra...  \n",
       "1  Jandino Asporaat riffs on the challenges of ra...  \n",
       "2  With the help of three human allies, the Autob...  \n",
       "3  When a prison ship crash unleashes hundreds of...  \n",
       "4  When nerdy high schooler Dani finally attracts...  "
      ]
     },
     "execution_count": 43,
     "metadata": {},
     "output_type": "execute_result"
    }
   ],
   "source": [
    "data=pd.read_csv(\"D:/Projects/Netflix Recommendation/inputs/netflix_titles.csv\") #Read CSV \n",
    "data= data[['title','director','cast','listed_in','description']]  #Extract Needed data from the CSV\n",
    "data.head() #Display new Dataset"
   ]
  },
  {
   "cell_type": "code",
   "execution_count": 44,
   "metadata": {},
   "outputs": [
    {
     "data": {
      "text/plain": [
       "Index(['title', 'director', 'cast', 'listed_in', 'description'], dtype='object')"
      ]
     },
     "execution_count": 44,
     "metadata": {},
     "output_type": "execute_result"
    }
   ],
   "source": [
    "data.columns  #GEt Data Columns"
   ]
  },
  {
   "cell_type": "code",
   "execution_count": 45,
   "metadata": {},
   "outputs": [
    {
     "data": {
      "text/plain": [
       "title          object\n",
       "director       object\n",
       "cast           object\n",
       "listed_in      object\n",
       "description    object\n",
       "dtype: object"
      ]
     },
     "execution_count": 45,
     "metadata": {},
     "output_type": "execute_result"
    }
   ],
   "source": [
    "data.dtypes"
   ]
  },
  {
   "cell_type": "code",
   "execution_count": 46,
   "metadata": {},
   "outputs": [
    {
     "data": {
      "text/plain": [
       "(6234, 5)"
      ]
     },
     "execution_count": 46,
     "metadata": {},
     "output_type": "execute_result"
    }
   ],
   "source": [
    "data.shape  #Get Number of Datas in the Data set"
   ]
  },
  {
   "cell_type": "code",
   "execution_count": 47,
   "metadata": {},
   "outputs": [],
   "source": [
    "# Pre processing data - Fill Nul Director,Cast Rows\n",
    "data['director']=data['director'].fillna(' ')\n",
    "data['cast']=data['cast'].fillna(' ')\n",
    "\n",
    "# Set direstor and cast data type to String\n",
    "data['director']=data['director'].astype('str')\n",
    "data['cast']=data['cast'].astype('str')"
   ]
  },
  {
   "cell_type": "code",
   "execution_count": 48,
   "metadata": {},
   "outputs": [
    {
     "data": {
      "text/html": [
       "<div>\n",
       "<style scoped>\n",
       "    .dataframe tbody tr th:only-of-type {\n",
       "        vertical-align: middle;\n",
       "    }\n",
       "\n",
       "    .dataframe tbody tr th {\n",
       "        vertical-align: top;\n",
       "    }\n",
       "\n",
       "    .dataframe thead th {\n",
       "        text-align: right;\n",
       "    }\n",
       "</style>\n",
       "<table border=\"1\" class=\"dataframe\">\n",
       "  <thead>\n",
       "    <tr style=\"text-align: right;\">\n",
       "      <th></th>\n",
       "      <th>title</th>\n",
       "      <th>WordBulk</th>\n",
       "    </tr>\n",
       "  </thead>\n",
       "  <tbody>\n",
       "    <tr>\n",
       "      <th>0</th>\n",
       "      <td>Norm of the North: King Sized Adventure</td>\n",
       "      <td>children &amp; family movies comedies  richardfinn...</td>\n",
       "    </tr>\n",
       "    <tr>\n",
       "      <th>1</th>\n",
       "      <td>Jandino: Whatever it Takes</td>\n",
       "      <td>stand-up comedy   jandinoasporaat raising kids...</td>\n",
       "    </tr>\n",
       "    <tr>\n",
       "      <th>2</th>\n",
       "      <td>Transformers Prime</td>\n",
       "      <td>kids' tv   petercullen sumaleemontano frankwel...</td>\n",
       "    </tr>\n",
       "    <tr>\n",
       "      <th>3</th>\n",
       "      <td>Transformers: Robots in Disguise</td>\n",
       "      <td>kids' tv   willfriedle darrencriss constancezi...</td>\n",
       "    </tr>\n",
       "    <tr>\n",
       "      <th>4</th>\n",
       "      <td>#realityhigh</td>\n",
       "      <td>comedies  fernandolebrija nestacooper katewals...</td>\n",
       "    </tr>\n",
       "  </tbody>\n",
       "</table>\n",
       "</div>"
      ],
      "text/plain": [
       "                                     title  \\\n",
       "0  Norm of the North: King Sized Adventure   \n",
       "1               Jandino: Whatever it Takes   \n",
       "2                       Transformers Prime   \n",
       "3         Transformers: Robots in Disguise   \n",
       "4                             #realityhigh   \n",
       "\n",
       "                                            WordBulk  \n",
       "0  children & family movies comedies  richardfinn...  \n",
       "1  stand-up comedy   jandinoasporaat raising kids...  \n",
       "2  kids' tv   petercullen sumaleemontano frankwel...  \n",
       "3  kids' tv   willfriedle darrencriss constancezi...  \n",
       "4  comedies  fernandolebrija nestacooper katewals...  "
      ]
     },
     "execution_count": 48,
     "metadata": {},
     "output_type": "execute_result"
    }
   ],
   "source": [
    "data['WordBulk']= ''  #Add new Column to data set\n",
    "\n",
    "#Iterate threw the dataset\n",
    "for index,row in data.iterrows():  \n",
    "      \n",
    "    category = ''.join(row['listed_in'].split(',')).lower()  #Get Category of the each  \n",
    "    cast = ' '.join(row['cast'].replace(' ','').split(',')).lower()  #Get actors in each\n",
    "    director = ''.join(row['director'].replace(' ','').split(',')).lower() #Get director of Each\n",
    "    \n",
    "\n",
    "    plot = row['description']  #add desription to a dataframe\n",
    "    extracter = Rake()  \n",
    "    extracter.extract_keywords_from_text(plot)  #extract key words in the descriptions of each\n",
    "    words_in_description = extracter.get_word_degrees() #get those extracted key words\n",
    "    \n",
    "    description = ' '.join(list(words_in_description.keys())) #Key words in the description\n",
    "    row['WordBulk'] = category + ' ' + ' ' + director + ' ' + cast + ' '+description  #And identified key words from each sections of each item(Movie or Tv Series)\n",
    "\n",
    "recomendation_data = data[['title','WordBulk']] #Set title and word bulk to a new data frame\n",
    "recomendation_data.head()  #Display data frame"
   ]
  },
  {
   "cell_type": "code",
   "execution_count": 49,
   "metadata": {},
   "outputs": [
    {
     "name": "stdout",
     "output_type": "stream",
     "text": [
      "[[1.         0.         0.         ... 0.0942809  0.03086067 0.03390318]\n",
      " [0.         1.         0.04472136 ... 0.         0.         0.        ]\n",
      " [0.         0.04472136 1.         ... 0.         0.10141851 0.07427814]\n",
      " ...\n",
      " [0.0942809  0.         0.         ... 1.         0.         0.        ]\n",
      " [0.03086067 0.         0.10141851 ... 0.         1.         0.21971769]\n",
      " [0.03390318 0.         0.07427814 ... 0.         0.21971769 1.        ]]\n"
     ]
    }
   ],
   "source": [
    "model = CountVectorizer()   #Count Vectorizer model\n",
    "count_matrix = model.fit_transform(recomendation_data['WordBulk']) #Fit data to the model  \n",
    "similarity_matrix = cosine_similarity(count_matrix,count_matrix)  #Train the model(This matrix shows one items similarity to others- Squred Metrix)\n",
    "#Matrix=m(i,j) i=columns j=rows when i=j  m(i,j)=1\n",
    "\n",
    "print(similarity_matrix) #Display similarity matrix"
   ]
  },
  {
   "cell_type": "code",
   "execution_count": 50,
   "metadata": {},
   "outputs": [],
   "source": [
    "titles = pd.Series(recomendation_data['title']) #Get titles list\n",
    "\n",
    "#Function for view recomended items for given movie or TV series \n",
    "def recommendationEngine(name):\n",
    "    recomend_list=[] #recomendation list \n",
    "    index = titles[titles == name].index[0] #get index of the given name \n",
    "    sort_index = pd.Series(similarity_matrix[index]).sort_values(ascending = False)  #get indexes of the simillar items for the given name from the matrix\n",
    "    similarItems = sort_index.iloc[1:6]  #Get First 5 recomended items\n",
    "    for i in similarItems.index:\n",
    "        recomend_list.append(titles[i])   #Add recomended items to the List\n",
    "    for movie in recomend_list:\n",
    "        print(movie)      #Display recomeded list"
   ]
  },
  {
   "cell_type": "code",
   "execution_count": 51,
   "metadata": {},
   "outputs": [
    {
     "name": "stdout",
     "output_type": "stream",
     "text": [
      "The Rehearsal\n",
      "A Billion Colour Story\n",
      "Manto\n",
      "Princess Cyd\n",
      "Sunday's Illness\n"
     ]
    }
   ],
   "source": [
    "recommendationEngine('The Runner')"
   ]
  },
  {
   "cell_type": "code",
   "execution_count": 52,
   "metadata": {},
   "outputs": [
    {
     "name": "stdout",
     "output_type": "stream",
     "text": [
      "Abdo Mota\n",
      "Highway\n",
      "Furie\n",
      "Veerappan\n",
      "Naan Sigappu Manithan\n"
     ]
    }
   ],
   "source": [
    "recommendationEngine('6 Underground')"
   ]
  },
  {
   "cell_type": "code",
   "execution_count": 53,
   "metadata": {},
   "outputs": [
    {
     "name": "stdout",
     "output_type": "stream",
     "text": [
      "Zipi & Zape y la Isla del Capitan\n",
      "In This Corner of the World\n",
      "Raising the Bar\n",
      "Santa Girl\n",
      "Chitty Chitty Bang Bang\n"
     ]
    }
   ],
   "source": [
    "recommendationEngine('Monster Island')"
   ]
  },
  {
   "cell_type": "code",
   "execution_count": null,
   "metadata": {},
   "outputs": [],
   "source": []
  }
 ],
 "metadata": {
  "kernelspec": {
   "display_name": "Python 3",
   "language": "python",
   "name": "python3"
  },
  "language_info": {
   "codemirror_mode": {
    "name": "ipython",
    "version": 3
   },
   "file_extension": ".py",
   "mimetype": "text/x-python",
   "name": "python",
   "nbconvert_exporter": "python",
   "pygments_lexer": "ipython3",
   "version": "3.6.10"
  }
 },
 "nbformat": 4,
 "nbformat_minor": 4
}
